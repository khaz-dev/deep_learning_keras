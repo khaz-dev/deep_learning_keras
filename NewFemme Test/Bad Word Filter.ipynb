{
 "cells": [
  {
   "cell_type": "code",
   "execution_count": 72,
   "id": "3962ec9d",
   "metadata": {},
   "outputs": [],
   "source": [
    "import pandas as pd"
   ]
  },
  {
   "cell_type": "code",
   "execution_count": 73,
   "id": "5788c4ad",
   "metadata": {},
   "outputs": [],
   "source": [
    "def load_bad_words():\n",
    "    badwords_file = pd.read_csv(\"badwords.csv\")\n",
    "    return badwords_file.bad_word"
   ]
  },
  {
   "cell_type": "code",
   "execution_count": 74,
   "id": "9e575d60",
   "metadata": {},
   "outputs": [
    {
     "name": "stdout",
     "output_type": "stream",
     "text": [
      "Enter your text : hey asshole\n"
     ]
    }
   ],
   "source": [
    "user_input = input(\"Enter your text : \")\n"
   ]
  },
  {
   "cell_type": "code",
   "execution_count": 75,
   "id": "f034b681",
   "metadata": {},
   "outputs": [
    {
     "name": "stdout",
     "output_type": "stream",
     "text": [
      "hey asshole\n",
      "Sorry the word is not allowed\n"
     ]
    }
   ],
   "source": [
    "badwords = load_bad_words()\n",
    "badwords = set(badwords)\n",
    "\n",
    "for key in ['.', ',', '\"', \"'\", '?', '!', ':', ';', '(', ')', '[', ']', '{', '}']:\n",
    "    sentence = user_input.replace(key, '')\n",
    "\n",
    "print(sentence)\n",
    "\n",
    "for badword in badwords:\n",
    "    if badword in sentence:\n",
    "        print(\"Sorry the word is not allowed\")\n",
    "        break\n",
    "    else:\n",
    "        continue"
   ]
  },
  {
   "cell_type": "code",
   "execution_count": null,
   "id": "da613445",
   "metadata": {},
   "outputs": [],
   "source": []
  },
  {
   "cell_type": "code",
   "execution_count": null,
   "id": "955e3fe3",
   "metadata": {},
   "outputs": [],
   "source": []
  }
 ],
 "metadata": {
  "kernelspec": {
   "display_name": "Python 3 (ipykernel)",
   "language": "python",
   "name": "python3"
  },
  "language_info": {
   "codemirror_mode": {
    "name": "ipython",
    "version": 3
   },
   "file_extension": ".py",
   "mimetype": "text/x-python",
   "name": "python",
   "nbconvert_exporter": "python",
   "pygments_lexer": "ipython3",
   "version": "3.7.16"
  }
 },
 "nbformat": 4,
 "nbformat_minor": 5
}
